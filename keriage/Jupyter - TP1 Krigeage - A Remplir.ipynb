{
 "cells": [
  {
   "cell_type": "raw",
   "metadata": {},
   "source": [
    "---\n",
    "title: \"TP1 Krigeage\"\n",
    "author: \"Didier Rullière\"\n",
    "date: \"5 décembre 2020\"\n",
    "output: html_document\n",
    "---"
   ]
  },
  {
   "cell_type": "raw",
   "metadata": {
    "name": "setup",
    "tags": [
     "remove_cell"
    ]
   },
   "source": [
    "knitr::opts_chunk$set(echo = TRUE)"
   ]
  },
  {
   "cell_type": "markdown",
   "metadata": {},
   "source": [
    "Note: il est recommandé de travailler avec RStudio. A l'ouverture de ce document R markdown (.Rmd), si les accents apparaissent mal, dans RStudio sélectionner File, Reopen with encoding puis utf8. Une fois le document réalisé, vous pouvez utiliser le bouton knit pour générer une sortie au format html."
   ]
  },
  {
   "cell_type": "markdown",
   "metadata": {},
   "source": [
    "# Exercice 1. Un exemple minimal de Krigeage Simple\n",
    "\n",
    "Nous allons ici considérer un exemple très minimal, que nous allons conduire pas à pas, sans utiliser de packages dédiés, pour bien comprendre la méthode.\n",
    "\n",
    "On considère ici une fonction de réponse, disons \n",
    "$$f(x) = a + sin(x) $$\n",
    "On prendra dans un premier temps $a=0.75$.\n",
    "\n",
    "Cette fonction $f$ est supposée inconnue, mais on observe $n=5$ valeurs de cette fonction aux abscisses contenues dans le vecteur $X=(-2, -1, 4, 5, 7)$."
   ]
  },
  {
   "cell_type": "markdown",
   "metadata": {},
   "source": [
    "## Question 1a. Noyau de covariance\n",
    "\n",
    "Nous allons chercer à interpoler les valeurs observées de la fonction au moyen de krigeage simple.\n",
    "\n",
    "Pour cela, nous allons modéliser les réponses par un processus Gaussien $Y(.)$. On suppose dans un premier temps que la covariance entre les valeurs du processus est donnée par la fonction suivante:\n",
    "\n",
    "$$Cov(Y(x),Y(x')) = k(x,x') = \\sigma^2 \\exp\\left(-\\frac{(x-x')^2}{2\\theta^2}\\right) $$\n",
    "\n",
    "* Cette fonction ne dépend que de $x-x'$, quelle est la conséquence sur la nature du processus $Y$?\n",
    "\n",
    "* Quel est le nom de cette fonction de covariance (noyau de covariance)?\n",
    "\n",
    "* Rapidement, à quelle page cette fonction de covariance est-elle décrite dans le livre <http://www.gaussianprocess.org/gpml/chapters/RW.pdf>? Vous pourrez lire le détail plus tard, vous disposez désormais d'une référence très complète!"
   ]
  },
  {
   "cell_type": "code",
   "execution_count": null,
   "metadata": {},
   "outputs": [],
   "source": [
    "\n",
    "#insérer vos réponses sous forme de commentaires:"
   ]
  },
  {
   "cell_type": "markdown",
   "metadata": {},
   "source": [
    "## Question 1b. Observations\n",
    "\n",
    "Créer les inputs $X$ et le vecteur de réponses $Y=f(X)$ en ces abscisses."
   ]
  },
  {
   "cell_type": "code",
   "execution_count": null,
   "metadata": {},
   "outputs": [],
   "source": [
    "# tapez votre code ici"
   ]
  },
  {
   "cell_type": "markdown",
   "metadata": {},
   "source": [
    "## Question 1c. Matrices de covariance\n",
    "Nous allons chercher à prédire la fonction en des abscisses réparties régulièrement sur l'intervalle $[-10 , 10]$, par exemple en $q=100$ abscisses. Ces abscisses sont regroupées dans un vecteur colonne $x^{new}$.\n",
    "\n",
    "Créer les abcisses $x_{new}$. En supposant $\\theta=1$ et $\\sigma^2=1$, créer deux matrices :\n",
    "* la matrice $n \\times n$ de covariances $K=(K_{ij})$ avec $K_{ij}=k(x_i,  x_j)$, où $x_i$ et $x_j$ sont des inputs observés. On note parfois cette matrice $K=k(X,X)$.\n",
    "* le vecteur $n \\times q$ de covariances $h=(h_{ij})$ avec $h_{ij}=k(x_i,  x^{new}_j)$. On note parfois cette matrice $h=k(X,x^{new})$.\n",
    "\n",
    "Ne cherchez pas à faire un code optimal, mais simplement un code lisible. "
   ]
  },
  {
   "cell_type": "code",
   "execution_count": null,
   "metadata": {
    "lines_to_next_cell": 2
   },
   "outputs": [],
   "source": [
    "# tapez votre code ici"
   ]
  },
  {
   "cell_type": "markdown",
   "metadata": {
    "lines_to_next_cell": 0
   },
   "source": [
    "Montrer pour un vecteur $\\mathbf{z}$ de votre choix que $z^{\\top} K z \\ge 0$. Ce sera le cas pour tout $z$ si et seulement si les valeurs propres de $K$ sont $\\ge 0$, montrer que ce sera bien le cas ici."
   ]
  },
  {
   "cell_type": "code",
   "execution_count": null,
   "metadata": {
    "lines_to_next_cell": 0
   },
   "outputs": [],
   "source": [
    "# tapez votre code ici\n"
   ]
  },
  {
   "cell_type": "markdown",
   "metadata": {},
   "source": [
    "\n"
   ]
  },
  {
   "cell_type": "markdown",
   "metadata": {},
   "source": [
    "## Question 1d. Prédictions\n",
    "\n",
    "La moyenne de Krigeage Simple aux abscisses $x^{new}$ est donné par la formule:\n",
    "$$ m(x^{new}) = h^{\\top} K^{-1} \\cdot Y$$\n",
    "tracer cette moyenne de Krigeage. Ajouter le nuage de points observés $(X,Y)$.\n"
   ]
  },
  {
   "cell_type": "code",
   "execution_count": null,
   "metadata": {
    "lines_to_next_cell": 0
   },
   "outputs": [],
   "source": [
    "# tapez votre code ici\n"
   ]
  },
  {
   "cell_type": "markdown",
   "metadata": {},
   "source": [
    "Au sujet du calcul de la moyenne de Krigeage:\n",
    "\n",
    "* Une fois les matrices K et h remplies, quelle est la complexité de ce calcul, en présence de $n$ observations?\n",
    "\n",
    "* Chaque ligne de $\\alpha = h^{\\top} K^{-1}$ représente les poids affectés à chaque réponse dans la combinaison linéaire optimale. Ces poids se somment-ils à un ? y a-t-il des poids négatifs? Comment se comporte la prédiction loin des points observés? pourquoi?"
   ]
  },
  {
   "cell_type": "code",
   "execution_count": null,
   "metadata": {},
   "outputs": [],
   "source": [
    "# tapez votre code ici"
   ]
  },
  {
   "cell_type": "markdown",
   "metadata": {},
   "source": [
    "## Question 1e. Intervalles de confiance\n",
    "\n",
    "La covariance de Krigeage Simple aux abscisses $x^{new}$ est donné par la formule:\n",
    "$$ c(x^{new}, x^{new}) = \\sigma^2 - h^{\\top} K^{-1} \\cdot h$$\n",
    "La variance de Krigeage est donnée par la diagonale de cette matrice\n",
    "$$ v(x^{new}) = diag(c(x^{new}, x^{new}))$$\n",
    "\n",
    "A l'aide de cette variance de Krigeage, ajouter des intervalles de confiances (sous une hypothèse Gaussienne) au graphique précédent."
   ]
  },
  {
   "cell_type": "code",
   "execution_count": null,
   "metadata": {},
   "outputs": [],
   "source": [
    "# tapez votre code ici\n"
   ]
  },
  {
   "cell_type": "markdown",
   "metadata": {
    "lines_to_next_cell": 0
   },
   "source": [
    "# Question 2. Utilisation de paquets logiciels\n",
    "\n",
    "Nous allons reprendre ici l'exemple élémentaire précédent, et retrouver les résultats obtenus à l'aide d'un paquet logiciel tout prêt *DiceKriging*, disponible sur le dépôt logiciel CRAN. Sauf mention contraire, toutes les variables utilisées seront celles de la question 1.\n",
    "\n",
    "## Question 2a  Utilisation de DiceKrigring\n",
    "Installer la librairie DiceKriging (dans R Studio, utiliser Tools, Install Packages). Charger cette librairie"
   ]
  },
  {
   "cell_type": "code",
   "execution_count": null,
   "metadata": {},
   "outputs": [],
   "source": [
    "# tapez votre code ici\n"
   ]
  },
  {
   "cell_type": "markdown",
   "metadata": {
    "lines_to_next_cell": 0
   },
   "source": [
    "## Question 2b Modèle de Krigeage\n",
    "Au moyen de la fonction *km* créer un modèle de Krigeage Simple, que vous stockerez dans une variable *monModele*.\n",
    "(Pour schématiser *km* va calculer la matrice $K$ et son inverse, de façon à pouvoir faire ensuite plusieurs prédictions sans recalculer cette matrice.)\n",
    "\n",
    "Vous aurez besoin d'utiliser les options suivantes:\n",
    "\n",
    "* Pour le type de Krigeage,\n",
    "\n",
    "    * `formula = ~1` et `coef.trend = 0` pour du Krigeage Simple (on a un trend constant égal à zero)\n",
    "\n",
    "    * `formula = ~1` et `coef.trend = NULL` pour du Krigeage Ordinaire (on a un trend constant à estimer)\n",
    "\n",
    "    * `formula = ~Y~1+X` (ou `formula = ~Y~1+X+I(X^2))`et `coef.trend = NULL` pour du Krigeage Universel.\n",
    "\n",
    "* Pour les observations: `design = ...`, `response = ... ` pour indiquer les inputs et output observés.\n",
    "\n",
    "* Pour le noyau de covariance:\n",
    "`covtype=...` (type de noyau), `coef.cov = ...` pour le(s) paramètre(s) $\\theta$, `coef.var =` pour la variance $\\sigma^2$"
   ]
  },
  {
   "cell_type": "code",
   "execution_count": null,
   "metadata": {},
   "outputs": [],
   "source": [
    "\n",
    "# tapez votre code ici\n"
   ]
  },
  {
   "cell_type": "markdown",
   "metadata": {},
   "source": [
    "Ensuite, établissez une prédiction aux points *x^{new}* au moyen de la fonction `predict` de DiceKriging.\n",
    "Vous aurez à utiliser les paramètres suivants:\n",
    "\n",
    "* `object=...` pour spécifier le modèle de Krigeage, vous indiquerez `monModele`.\n",
    "\n",
    "* `newdata=...` pour spécifier les nouveaux inputs où l'on souhaite prédire\n",
    "\n",
    "* `type=...` pour spécifier le prédicteur désiré, \"SK\" pour Simple Kriging, ou \"UK\" pour Ordinary et Universal.\n",
    "\n",
    "* `checkNames=FALSE` si vous ne souhaitez pas vérifier les noms des variables dans les objets en entrée de type dataframe.\n",
    "\n",
    "trouver l'option à utiliser pour calculer les variances (ou écart types) de Krigeage. Extraire moyenne et variance de Krigeage dans des variables $m_Dice$ et $v_Dice$."
   ]
  },
  {
   "cell_type": "code",
   "execution_count": null,
   "metadata": {
    "lines_to_next_cell": 0
   },
   "outputs": [],
   "source": [
    "# tapez votre code ici\n"
   ]
  },
  {
   "cell_type": "markdown",
   "metadata": {},
   "source": []
  },
  {
   "cell_type": "markdown",
   "metadata": {},
   "source": [
    "## Question 2c\n",
    "\n",
    "Comparer les résultats obtenus avec ceux de l'exercice 1. Renvoyez un booléen qui renvoie TRUE ou FALSE selon que les résltats sont similaires ou non. "
   ]
  },
  {
   "cell_type": "code",
   "execution_count": null,
   "metadata": {
    "lines_to_next_cell": 0
   },
   "outputs": [],
   "source": [
    "# tapez votre code ici\n"
   ]
  },
  {
   "cell_type": "markdown",
   "metadata": {},
   "source": [
    "_Remarque_: prenez l'habitude de tester ainsi vos résultats, à la façon de *tests unitaires*, cf. <https://en.wikipedia.org/wiki/Unit_testing> . Il est commun de vérifier manuellement le bon comportement de fonctions, puis malheureusement d'effacer ces vérifications. Le fait de préserver des tests automatisés, renvoyant des booléens faciles à agréger, permet de s'assurer du bon fonctionnement d'un programme au fur et à mesure qu'il évolue.\n",
    "\n",
    "## Question 2d\n",
    "\n",
    "Effectuez une nouvelle prédiction avec DiceKriging, en utilisant un Krigeage Ordinaire avec les mêmes paramètres. Tracer a prédiciton obtenue, quelle est la différence avec le Krigeage Simple?"
   ]
  },
  {
   "cell_type": "code",
   "execution_count": null,
   "metadata": {},
   "outputs": [],
   "source": [
    "# tapez votre code ici\n"
   ]
  },
  {
   "cell_type": "code",
   "execution_count": null,
   "metadata": {
    "lines_to_next_cell": 0
   },
   "outputs": [],
   "source": [
    "# tapez votre code ici\n"
   ]
  },
  {
   "cell_type": "markdown",
   "metadata": {},
   "source": [
    "_Remarque_: des indications et exemples sur le package DiceKriging sont aussi disponibles ici: <https://hal.archives-ouvertes.fr/hal-00495766/file/jss642.pdf>\n",
    "\n",
    "# Question 3\n",
    "\n",
    "Un industriel souhaite optimiser la conception d'aubes (de pales) de turbine. Il souhaite pour cela établir un plan d'expérience, puis un métamodèle qui lui permettra d'estimer la performance d'un profil d'aube donné. "
   ]
  },
  {
   "cell_type": "markdown",
   "metadata": {},
   "source": [
    "A l'issue d'une première étude, deux paramètres de géométrie des aubes semblent cruciaux pour la performance globale de la turbine, ces deux paramètres ont été normalisés et prennent chacun des valeurs dans $[0,1]$. Pour la construction future du métamodèle, l'industriel souhaite utiliser un Krigeage simple. Les performances qu'il mesure semblent évoluer de façon très régulière, il souhaite donc opter pour un noyau de covariance Gaussien, de longueurs de corrélation (lengthscales) $\\theta=0.3$ pour chacune des deux dimensions."
   ]
  },
  {
   "cell_type": "markdown",
   "metadata": {
    "lines_to_next_cell": 0
   },
   "source": [
    "L'industriel envisage de procéder en deux étapes:\n",
    "\n",
    "* Créer un plan d'expérience simple, construire des prototypes et effectuer des mesures précises de performance pour $n=20$ profils différents.\n",
    "\n",
    "* Puis créer et tracer un métamodèle, à partir d'un Krigeage Simple des observations effectuées. \n",
    "\n",
    "La réalisation des $n$ prototypes et essais devrait prendre un mois, il est donc important de ne pas faire d'essais trop similaires...\n",
    "\n",
    "## 3a. Plan optimisé Kriging Based Design - grille d'évaluation\n",
    "\n",
    "Créer une fonction pour évaluer numériquement le critère IMSE d'un plan donné.\n",
    "\n",
    "Pour cela, on va tout d'abord créer une grille de points $x^{new}$ de taille 10000 x 2 par exemple, couvrant le carré $[0,1]^2$. Vous pourrez utiliser pour cela la fonction `expand.grid`. "
   ]
  },
  {
   "cell_type": "code",
   "execution_count": null,
   "metadata": {},
   "outputs": [],
   "source": [
    "# tapez votre code ici"
   ]
  },
  {
   "cell_type": "markdown",
   "metadata": {},
   "source": [
    "## 3b. Plan optimisé Kriging Based Design - critère emse\n",
    "\n",
    "Par Krigeage Simple et pour un plan $X$, on en déduit alors la valeur de la variance de Krigeage sur chaque point de la grille $x^{new}$, une moyenne de ces grandeurs donnera le critère IMSE.\n",
    "\n",
    "Tout d'abord, pour un plan X donné, la variance de Krigeage dépend-elle des réponses $Y$ observées? La minimisation d'un critère IMSE sera-t-elle affectée par la variance $\\sigma^2$ de la réponse ?"
   ]
  },
  {
   "cell_type": "code",
   "execution_count": null,
   "metadata": {},
   "outputs": [],
   "source": [
    "# tapez vos commentaires ici"
   ]
  },
  {
   "cell_type": "markdown",
   "metadata": {},
   "source": [
    "Créer un plan $X$ de $n$ essais dans $[0,1]^2$, tirés de façon uniforme qui permettra de tester votre fonction.\n",
    "\n",
    "Calculer par Krigeage simple, à l'aide de DiceKriging, la variance de Krigeage en chaque point $x^{new}$. Attention, vous aurez besoin d'un paramètre de portée (lengthscale $\\theta$) par dimension. Quand tout fonctionne, encapsulez le tout dans une fonction IMSE, prenant en argument un plan X, et renvoyant le critère EMSE."
   ]
  },
  {
   "cell_type": "code",
   "execution_count": null,
   "metadata": {},
   "outputs": [],
   "source": [
    "# tapez votre code ici"
   ]
  },
  {
   "cell_type": "markdown",
   "metadata": {},
   "source": [
    "## 3c. Plan optimisé 'Kriging Based Design' final\n",
    "\n",
    "Répéter 1000 fois le tirage aléatoire d'un plan $X$ et le calcul de l'IMSE correspondant. Sauvegarder le meilleur et le pire plan obtenu pour ce critère. Nommez ces deux plans *Xbest* et *Xworse*, tracez ces plans. \n",
    "\n",
    "Remarque: On pourrait bien sûr améliorer le meilleur plan en partant de plans plus optimisés (l'enjeu était ici de voir aussi de \"mauvais\" plans)."
   ]
  },
  {
   "cell_type": "code",
   "execution_count": null,
   "metadata": {},
   "outputs": [],
   "source": [
    "# tapez votre code ici"
   ]
  },
  {
   "cell_type": "markdown",
   "metadata": {},
   "source": [
    "## 3d. Le grand jour\n",
    "\n",
    "Après un mois de travaux, de construction de turbines et de tests de performance, l'industriel est en mesure de donner la mesure de performance pour chacun des $n$ points du meilleur plan d'expérience *Xbest*.\n",
    "\n",
    "Nous supposerons ici que cette performance nommée *Y* est le résultat de la fonction *branin* du package DiceKriging.\n",
    "\n",
    "Calculer *Y* pour chaque point de *Xbest*, puis calculer la moyenne de Krigeage Simple en chacun des points de *xnew*. En vous inspirant de ce code <https://rdrr.io/cran/DiceKriging/man/branin.html> tracer les courbes de niveau de votre moyenne de Krigeage. On pourra remplacer `contour(x,y,z,40)` par `filled.contour(x,y,z)` pour un résultat plus visuel."
   ]
  },
  {
   "cell_type": "code",
   "execution_count": null,
   "metadata": {
    "lines_to_next_cell": 0
   },
   "outputs": [],
   "source": [
    "# tapez votre code ici\n"
   ]
  },
  {
   "cell_type": "markdown",
   "metadata": {},
   "source": []
  }
 ],
 "metadata": {
  "jupytext": {
   "cell_metadata_filter": "name,tags,-all",
   "main_language": "R",
   "notebook_metadata_filter": "-all"
  },
  "kernelspec": {
   "display_name": "Python 3",
   "language": "python",
   "name": "python3"
  },
  "language_info": {
   "codemirror_mode": {
    "name": "ipython",
    "version": 3
   },
   "file_extension": ".py",
   "mimetype": "text/x-python",
   "name": "python",
   "nbconvert_exporter": "python",
   "pygments_lexer": "ipython3",
   "version": "3.8.5"
  }
 },
 "nbformat": 4,
 "nbformat_minor": 2
}
