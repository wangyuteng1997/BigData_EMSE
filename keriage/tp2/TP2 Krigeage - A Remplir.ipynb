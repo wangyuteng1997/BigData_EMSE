{
 "cells": [
  {
   "cell_type": "raw",
   "metadata": {},
   "source": [
    "---\n",
    "title: \"TP2 Krigeage\"\n",
    "author: \"Didier Rullière\"\n",
    "date: \"10 décembre 2020\"\n",
    "output: html_document\n",
    "---"
   ]
  },
  {
   "cell_type": "raw",
   "metadata": {
    "name": "setup",
    "tags": [
     "remove_cell"
    ]
   },
   "source": [
    "knitr::opts_chunk$set(echo = TRUE)"
   ]
  },
  {
   "cell_type": "markdown",
   "metadata": {},
   "source": [
    "Note: il est recommandé de travailler avec RStudio. A l'ouverture de ce document R markdown (.Rmd), si les accents apparaissent mal, dans RStudio sélectionner File, Reopen with encoding puis utf8. Une fois le document réalisé, vous pouvez utiliser le bouton knit pour générer une sortie au format html.\n",
    "\n",
    "La numérotation des exercices poursuit celle du TP n°1 qui comporte trois exercices, elle commence donc à 4.\n",
    "\n",
    "On rappelle une syntaxe de base pour opérer un Krigeage Simple à l'aide de la librairie DiceKriging:\n",
    "`monModele <- km(formula = ~1, design = X, response = Y, covtype = \"gauss\", coef.trend = 0,  coef.cov = theta, coef.var = sigma2)`\n",
    "`prediction <- predict(object = monModele, newdata = xnew , type=\"SK\" , checkNames=FALSE, se.compute=TRUE)`.\n",
    "\n",
    "# Exercice 4. Optimisation des covariances en dimension 1\n",
    "\n",
    "On considère un phénomène physique, pour les besoins du TP, nous le modéliserons par une fonction\n",
    "$$ f(x) = \\sin(2x)+\\log(2+x) $$\n",
    "on observe cette fonction à des abscisses tirées aléatoirement entre -1 et 1.\n",
    "\n",
    "Créer un échantillon d'apprentissage de $n=100$ évaluations de la fonction, et un échantillon de test de $q=50$ évaluations de la fonction. "
   ]
  },
  {
   "cell_type": "code",
   "execution_count": 1,
   "metadata": {},
   "outputs": [],
   "source": [
    "\n",
    "# tapez votre code ou vos commentaires ici\n"
   ]
  },
  {
   "cell_type": "markdown",
   "metadata": {
    "lines_to_next_cell": 0
   },
   "source": [
    "On suppose que le paramètre de portée est $\\theta \\in [0.5, 5]$.\n",
    "\n",
    "Pour calculer les prédicteurs de Krigeage, nous utiliserons DiceKriging comme dans le TP1.\n",
    "\n",
    "## 4a. Erreur de validation croisée\n",
    "\n",
    "Pour un paramètre $\\theta$ donné et une famille de covariance \"matern3_2\" faire une fonction qui:\n",
    "\n",
    "* au moyen d'un Krigeage Simple opère une prévision de la fonction au $q$ points de l'échantillon test.\n",
    "\n",
    "* renvoie l'erreur quadratique moyenne entre ces prédictions et les vraies valeurs de la fonction.\n",
    "\n",
    "Cette erreur dépend-elle de la variance du champ (paramètre `coef.var=` dans `km`)?"
   ]
  },
  {
   "cell_type": "code",
   "execution_count": 2,
   "metadata": {},
   "outputs": [],
   "source": [
    "# tapez votre code ou vos commentaires ici\n"
   ]
  },
  {
   "cell_type": "markdown",
   "metadata": {},
   "source": [
    "## 4b. Optimisation de la portée sur échantillon test\n",
    "\n",
    "Tracer l'évolution de l'erreur obtenue en fonction du paramètre de portée, et trouver le minimum approximatif et l'erreur qui en résulte. Répéter ce traitement pour plusieurs familles de covariance. Peut-on identifier une portée optimale? essayer de faire varier `set.seed(...)` en début de votre programme, pour avoir une idée de la robustesse de cette portée optimale."
   ]
  },
  {
   "cell_type": "code",
   "execution_count": 3,
   "metadata": {
    "lines_to_next_cell": 0
   },
   "outputs": [],
   "source": [
    "# tapez votre code ou vos commentaires ici\n"
   ]
  },
  {
   "cell_type": "markdown",
   "metadata": {},
   "source": [
    "\n"
   ]
  },
  {
   "cell_type": "markdown",
   "metadata": {},
   "source": [
    "## 4c. Autres techniques: MLE et LOO\n",
    "\n",
    "Dans DiceKriging, lorsque les paramètres de portée (*lengthscales* ou encore *range*) ne sont pas précisés, une optimisation est effectuée pour les estimer. Il est alors possible de les obtenir au moyen de  `coef(krigingModel, \"range\")`, où `krigingModel`est un output de la fonction `km`. La méthode utilisée est configurable grâce à l'argument `estim.method=\"MLE\"` ou `estim.method=\"LOO\"`.\t\n",
    "\n",
    "Utiliser DiceKriging pour estimer le paramètre de portée optimal, par l'une ou l'autre des méthodes."
   ]
  },
  {
   "cell_type": "code",
   "execution_count": 4,
   "metadata": {},
   "outputs": [],
   "source": [
    "# tapez votre code ou vos commentaires ici\n"
   ]
  },
  {
   "cell_type": "markdown",
   "metadata": {
    "lines_to_next_cell": 0
   },
   "source": [
    "Une estimation de la variance est possible de la même façon via  `coef(krigingModel, \"sd2\")`. Donner la variance et l'écart-type estimés par DiceKriging"
   ]
  },
  {
   "cell_type": "code",
   "execution_count": 5,
   "metadata": {
    "lines_to_next_cell": 2
   },
   "outputs": [],
   "source": [
    "# tapez votre code ou vos commentaires ici"
   ]
  },
  {
   "cell_type": "markdown",
   "metadata": {},
   "source": [
    "# Exercice 5\n",
    "\n",
    "Dans certains cas, il est possible d'observer des répétitions du champ aléatoire considéré. Nous allons voir dans cet exercice comment optimiser les paramètres de portée pour s'approcher d'une corrélation empirique observée.\n",
    "\n",
    "Dans le répertoire du TP, un fichier *SriLankaTP2.csv* donne des précipitations mensuelles observées dans différentes ville au Sri Lanka.\n",
    "\n",
    "De nombreuses analyses de série chronologiques seraient possibles (saisonnalité, valeurs aberrantes, etc.), pour les besoins du TP, nous travaillerons directement sur les données brutes et non sur des résidus. \n",
    "\n",
    "## 5a. Données et visualisations\n",
    "Importer tout d'abord le fichier (attention au séparateur et à la première ligne). Afficher les correlations au moyen de la fonction `cor`. Vous pourrez aussi utiliser la fonction `pairs` ."
   ]
  },
  {
   "cell_type": "code",
   "execution_count": 6,
   "metadata": {},
   "outputs": [],
   "source": [
    "# tapez votre code ou vos commentaires ici"
   ]
  },
  {
   "cell_type": "markdown",
   "metadata": {},
   "source": [
    "## 5b. Matrice des distances\n",
    "\n",
    "Après une recherche rapide sur Internet, on trouve les latitudes et longitudes approximatives suivantes:\n",
    "Colombo: 6.922, 79.863\n",
    "Pamban: 9.279, 79.225\n",
    "Puttalam: 8.0348, 79.837\n",
    "Thiruvananthapuram: 8.660, 76.946\n",
    "Trincomalee: 8.591, 81.213\n",
    "\n",
    "Créer une matrice `X`à deux colonnes contenant pour chaque ville ces coordonnées géographiques. Au moyen de `as.matrix(dist(X))`, créer ensuite une matrice contenant pour chaque paire de ville, une distance entre ces villes (peu importe l'unité), aisni que le coefficient de corrélation empirique entre les précipitations des deux villes en questions.\n",
    "\n",
    "Remarque sur la distance: on pourrait utiliser une distance géodésique sur la sphère, mais il faudrait alors adapter le noyau de covariance pour obtenir une fonction semi-définie positive. Autour de la ville de Colombo, 1 degré de latitude représente 111km, contre 110km pour 1 degré de longitude; nous négligerons également cette différence dans le TP. Au final, on ne considèrera donc qu'un distance euclidienne simple entre des coordonnées (lat, long), et un seul paramètre de portée.\n"
   ]
  },
  {
   "cell_type": "code",
   "execution_count": 7,
   "metadata": {},
   "outputs": [],
   "source": [
    "\n",
    "# tapez votre code ou vos commentaires ici"
   ]
  },
  {
   "cell_type": "markdown",
   "metadata": {},
   "source": [
    "On suppose désormais que l'on utilise un noyau Gaussien isotrope de sorte que la correlation entre deux villes à distance $d$ est:\n",
    "$$ r(d) =\\exp\\left(-d^2/(2\\theta^2)\\right)$$\n",
    "\n",
    "## 5c. Corrélations théoriques\n",
    "\n",
    "Créer une fonction R renvoyant la matrice de corrélation théorique pour un $\\theta$ donné."
   ]
  },
  {
   "cell_type": "code",
   "execution_count": 8,
   "metadata": {},
   "outputs": [],
   "source": [
    "# tapez votre code ou vos commentaires ici\n"
   ]
  },
  {
   "cell_type": "markdown",
   "metadata": {},
   "source": [
    "## 5d. Optimisation de la portée sur correlations\n",
    "\n",
    "Optimiser le paramètre de portée pour minimiser un écart de votre choix entre les corrélations théoriques (avec ce noyau et cette portée), et les corrélations empiriques. Nommez votre portée optimale *optimalTheta*"
   ]
  },
  {
   "cell_type": "code",
   "execution_count": 9,
   "metadata": {},
   "outputs": [],
   "source": [
    "# tapez votre code ou vos commentaires ici\n"
   ]
  },
  {
   "cell_type": "markdown",
   "metadata": {},
   "source": [
    "## 5e Prédiction\n",
    "\n",
    "Avec cette famille de covariance la portée optimale, prédire au moyen d'un krigeage ordinaire les précipitations dans la ville de *Dambulla* en février 2013, en sachant que les précipitations pour ce mois dans les 5 villes respectives étaient\n",
    "\n",
    "Colombo: 164, \n",
    "Pamban: 62, \n",
    "Puttalam: 93, \n",
    "Thiruvananthapuram: 43, \n",
    "Trincomalee: 355.\n",
    "\n",
    "Note: il vous faudra ici appliquer la portée $\\theta$ à la latitude comme à la longitude, de sorte que `coef.cov = c(optimalTheta, optimalTheta)`."
   ]
  },
  {
   "cell_type": "code",
   "execution_count": 10,
   "metadata": {},
   "outputs": [],
   "source": [
    "\n",
    "# tapez votre code ou vos commentaires ici\n"
   ]
  },
  {
   "cell_type": "markdown",
   "metadata": {},
   "source": [
    "On pourrait opérer une prédiction en de nombreux points pour obtenir une carte de l'intensité des précipitations à cette période. Il serait ainsi possible de tracer en couleur l'intensité des précipitations prédites sur toute la région. Bien sûr, le modèle est ici très frustre, il ne tient pas compte de la géographie (mers, montagnes), de l'évolution temporelle, et de bien d'autres phénomènes physiques...\n",
    "\n",
    "Par ailleurs, si on observait les précipations au nouveau point de prédiction *Dambulla*, il vaudrait mieux essayer d'expliquer ce niveau en fonction des cinq autres niveaux, pour exploiter toutes les observations, en chaque date. Ici on suppose qu'on ne dispose pas de cette information (nombre de stations limité p.ex., comme dans le contexte minier, où le nombre de forages est limité)."
   ]
  },
  {
   "cell_type": "markdown",
   "metadata": {},
   "source": [
    "# Exercice 6\n",
    "\n",
    "Vous trouverez dans le répertoire de Campus un fichier intitulé \"defi_observations.csv\", il comporte des observations pour 5 variables X1, ..., X5, et une variable à prédire Y.\n",
    "\n",
    "Vous trouverez également dans le répertoire du cours un fichier intitulé \"defi_apredire.csv\" comportant des valeurs pour les 5 variables X1, ..., X5, et où il faudra prédire Y.\n",
    "\n",
    "Remettre vos prédictions dans un fichier csv comportant les 5 variables X1, ..., X5, et la colonne Y prédite. Votre fichier s'intitulera \"DefiGroupeN\" où vous remplacerez bien sûr le suffixe N par le numéro de votre groupe. Le programme à l'origine de vos prédictions sera initulé \"programmeDefiGroupeN\". Quel que soit le langage utilisé, vérifier que votre fichier est lisible sous R avec la commande `read.csv(\"DefiGroupeN.csv\", header = TRUE)`.\n",
    "Par exemple, pour exporter votre fichier csv sous R, vous utiliserez la commande `write.csv(votreDataFrame,\"DefiGroupeN.csv\", row.names = FALSE)`. \n",
    "\n",
    "Le programme du meilleur groupe sera posté sur Campus.\n",
    "La contrainte: la prédiction doit se faire au moyen du Krigeage (eh oui, c'est un TP de Krigeage).\n",
    "\n",
    "ATTENTION! il vous faudra faire attention à bien utiliser une graine pour votre générateur aéatoire, p.ex `set.seed(12345)` de façon à ce que vos résultats soit reproductibles. D'une exécution à l'autre, votre programme doit proposer LA MEME prédiction!"
   ]
  },
  {
   "cell_type": "code",
   "execution_count": null,
   "metadata": {},
   "outputs": [],
   "source": []
  },
  {
   "cell_type": "code",
   "execution_count": null,
   "metadata": {},
   "outputs": [],
   "source": []
  },
  {
   "cell_type": "code",
   "execution_count": null,
   "metadata": {},
   "outputs": [],
   "source": []
  }
 ],
 "metadata": {
  "jupytext": {
   "cell_metadata_filter": "tags,name,-all",
   "main_language": "R",
   "notebook_metadata_filter": "-all"
  },
  "kernelspec": {
   "display_name": "R",
   "language": "R",
   "name": "ir"
  },
  "language_info": {
   "codemirror_mode": "r",
   "file_extension": ".r",
   "mimetype": "text/x-r-source",
   "name": "R",
   "pygments_lexer": "r",
   "version": "4.0.2"
  }
 },
 "nbformat": 4,
 "nbformat_minor": 2
}
